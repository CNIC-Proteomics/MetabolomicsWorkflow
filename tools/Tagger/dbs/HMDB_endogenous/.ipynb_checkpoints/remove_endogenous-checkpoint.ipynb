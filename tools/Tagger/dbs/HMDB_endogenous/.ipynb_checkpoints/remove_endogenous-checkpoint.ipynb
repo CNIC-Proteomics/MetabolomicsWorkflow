{
 "cells": [
  {
   "cell_type": "code",
   "execution_count": 1,
   "metadata": {},
   "outputs": [],
   "source": [
    "# Import modules\n",
    "import pandas as pd\n",
    "import numpy as np\n",
    "from pathlib import Path"
   ]
  },
  {
   "cell_type": "code",
   "execution_count": 2,
   "metadata": {},
   "outputs": [],
   "source": [
    "# Set variables\n",
    "plantTablePath = Path(\"../LOTUS/lotus_NP_synonyms.tsv\")\n",
    "endogenousTablePath = Path(\"./pre_hmdb_endogenous.tsv\")\n",
    "plantTableOutputPath = Path(\"../LOTUS/natural_product_list.tsv\")"
   ]
  },
  {
   "cell_type": "code",
   "execution_count": 3,
   "metadata": {},
   "outputs": [
    {
     "name": "stdout",
     "output_type": "stream",
     "text": [
      "                                                     Name          ID\n",
      "0                                            Dasytrichone  LTS0000005\n",
      "1                                            CHEMBL191819  LTS0000005\n",
      "2                                             151655-69-5  LTS0000005\n",
      "3                                          desmotumotin B  LTS0000005\n",
      "4                                                  C10035  LTS0000005\n",
      "...                                                   ...         ...\n",
      "892539  1,8a-dimethyl-4-[(2-methylbut-2-enoyl)oxy]-6-o...  LTS0276514\n",
      "892540  (1s,2s,4r,7e,9s,10r,11r)-9-hydroxy-4,8-dimethy...  LTS0276515\n",
      "892541  (3ar,4s,6ar,7r,8s,9r,9as,9bs)-7,8-dihydroxy-3,...  LTS0276516\n",
      "892542  (4as,6as,6br,8as,10s,12ar,12bs,14bs)-10-{[(2s,...  LTS0276517\n",
      "892543  (1r,4as,5s,8ar)-5-[(3z)-4-carboxy-3-methylbut-...  LTS0276518\n",
      "\n",
      "[892544 rows x 2 columns] \n",
      "                                                   Name      HMDB_ID\n",
      "0                              ​17-methyloctadecanoate  HMDB0037397\n",
      "1                          ​17-Methyloctadecanoic acid  HMDB0037397\n",
      "2            ​2,3,4,5-tetrahydro-2-pyridinecarboxylate  HMDB0012130\n",
      "3        ​2,3,4,5-Tetrahydro-2-pyridinecarboxylic acid  HMDB0012130\n",
      "4                        ​5alpha-Cholest-8-en-3beta-ol  HMDB0006841\n",
      "...                                                ...          ...\n",
      "1050932                        Ω-hydroxyleukotriene e4  HMDB0012639\n",
      "1050933                                 Ω-hydroxy-lte4  HMDB0012639\n",
      "1050934                            ω-N-Acetyl-L-lysine  HMDB0000206\n",
      "1050935                         ω-Phenylpropanoic acid  HMDB0000764\n",
      "1050936                              ω-Undecenoic acid  HMDB0033724\n",
      "\n",
      "[1050937 rows x 2 columns]\n"
     ]
    }
   ],
   "source": [
    "# Read table containing plant compounds\n",
    "plantTable = pd.read_csv(plantTablePath, sep=\"\\t\", header=0)\n",
    "\n",
    "# Read table containing endogenous compounds\n",
    "endogenousTable = pd.read_csv(endogenousTablePath, sep=\"\\t\", header=0)\n",
    "\n",
    "# Show Tables\n",
    "print(plantTable, \"\\n\", endogenousTable)"
   ]
  },
  {
   "cell_type": "code",
   "execution_count": 4,
   "metadata": {},
   "outputs": [],
   "source": [
    "# Convert plantTable into numpy matrix\n",
    "    # Remove \\u200b unicode character (empty character)\n",
    "plantMatrix = plantTable.to_numpy()\n",
    "plantMatrix[:, 0] = [name.replace('\\u200b', '').lower().strip() for name in plantMatrix[:, 0]]\n",
    "\n",
    "\n",
    "# Get numpy array with endogenous metabolites\n",
    "    # Remove \\u200b unicode character (empty character)\n",
    "endogenousArray = np.array([name.replace('\\u200b', '').lower().strip() for name in endogenousTable.loc[:, 'Name'].to_list()])"
   ]
  },
  {
   "cell_type": "markdown",
   "metadata": {},
   "source": [
    "\n",
    "#### Save both tables: Testing one (plant) and Endogenous. This is to make removal in C++"
   ]
  },
  {
   "cell_type": "code",
   "execution_count": 5,
   "metadata": {},
   "outputs": [],
   "source": [
    "pd.DataFrame(plantMatrix).to_csv(\"testing_table.tsv\", sep=\"\\t\", index=False, header=False)\n",
    "pd.DataFrame(endogenousArray).to_csv(\"endogenous_list.tsv\", sep=\"\\t\", index=False, header=False)"
   ]
  },
  {
   "cell_type": "markdown",
   "metadata": {},
   "source": [
    "#### Make processing (removal) in Notebook"
   ]
  },
  {
   "cell_type": "code",
   "execution_count": null,
   "metadata": {},
   "outputs": [],
   "source": [
    "# Get ID of plant compounds contained in endogenous array\n",
    "plantEndogenousIDArray = plantMatrix[np.isin(plantMatrix[:, 0], endogenousArray), 1]"
   ]
  },
  {
   "cell_type": "code",
   "execution_count": 19,
   "metadata": {},
   "outputs": [],
   "source": [
    "# Get ID without repeats\n",
    "plantEndogenousIDArrayUniq = np.array(list(set(plantEndogenousIDArray)))"
   ]
  },
  {
   "cell_type": "code",
   "execution_count": 47,
   "metadata": {
    "scrolled": true
   },
   "outputs": [],
   "source": [
    "# Obtain plantTable with rows not contained in endogenousTable\n",
    "plantTableFiltered = plantTable.loc[~np.isin(plantTable.loc[:, 'PlantCyc_ID'].to_numpy(), plantEndogenousIDArrayUniq), :]"
   ]
  },
  {
   "cell_type": "code",
   "execution_count": 52,
   "metadata": {},
   "outputs": [
    {
     "data": {
      "text/html": [
       "<div>\n",
       "<style scoped>\n",
       "    .dataframe tbody tr th:only-of-type {\n",
       "        vertical-align: middle;\n",
       "    }\n",
       "\n",
       "    .dataframe tbody tr th {\n",
       "        vertical-align: top;\n",
       "    }\n",
       "\n",
       "    .dataframe thead th {\n",
       "        text-align: right;\n",
       "    }\n",
       "</style>\n",
       "<table border=\"1\" class=\"dataframe\">\n",
       "  <thead>\n",
       "    <tr style=\"text-align: right;\">\n",
       "      <th></th>\n",
       "      <th>Name</th>\n",
       "      <th>PlantCyc_ID</th>\n",
       "    </tr>\n",
       "  </thead>\n",
       "  <tbody>\n",
       "    <tr>\n",
       "      <th>0</th>\n",
       "      <td>4'-demethyldeoxypodophyllotoxin</td>\n",
       "      <td>CPD-18756</td>\n",
       "    </tr>\n",
       "    <tr>\n",
       "      <th>1</th>\n",
       "      <td>3590-93-0</td>\n",
       "      <td>CPD-18756</td>\n",
       "    </tr>\n",
       "    <tr>\n",
       "      <th>2</th>\n",
       "      <td>4'-demethyldesoxypodophyllotoxin</td>\n",
       "      <td>CPD-18756</td>\n",
       "    </tr>\n",
       "    <tr>\n",
       "      <th>3</th>\n",
       "      <td>a 80198</td>\n",
       "      <td>CPD-18756</td>\n",
       "    </tr>\n",
       "    <tr>\n",
       "      <th>4</th>\n",
       "      <td>chebi:1729</td>\n",
       "      <td>CPD-18756</td>\n",
       "    </tr>\n",
       "    <tr>\n",
       "      <th>...</th>\n",
       "      <td>...</td>\n",
       "      <td>...</td>\n",
       "    </tr>\n",
       "    <tr>\n",
       "      <th>52554</th>\n",
       "      <td>violdelphin</td>\n",
       "      <td>CPD-16561</td>\n",
       "    </tr>\n",
       "    <tr>\n",
       "      <th>52555</th>\n",
       "      <td>wighteone</td>\n",
       "      <td>CPD-6644</td>\n",
       "    </tr>\n",
       "    <tr>\n",
       "      <th>52556</th>\n",
       "      <td>wogonin</td>\n",
       "      <td>CPD-12727</td>\n",
       "    </tr>\n",
       "    <tr>\n",
       "      <th>52558</th>\n",
       "      <td>zeinoxanthin</td>\n",
       "      <td>CPD-5661</td>\n",
       "    </tr>\n",
       "    <tr>\n",
       "      <th>52560</th>\n",
       "      <td>zymosterone</td>\n",
       "      <td>CPD-4581</td>\n",
       "    </tr>\n",
       "  </tbody>\n",
       "</table>\n",
       "<p>30080 rows × 2 columns</p>\n",
       "</div>"
      ],
      "text/plain": [
       "                                   Name PlantCyc_ID\n",
       "0       4'-demethyldeoxypodophyllotoxin   CPD-18756\n",
       "1                             3590-93-0   CPD-18756\n",
       "2      4'-demethyldesoxypodophyllotoxin   CPD-18756\n",
       "3                               a 80198   CPD-18756\n",
       "4                            chebi:1729   CPD-18756\n",
       "...                                 ...         ...\n",
       "52554                       violdelphin   CPD-16561\n",
       "52555                         wighteone    CPD-6644\n",
       "52556                           wogonin   CPD-12727\n",
       "52558                      zeinoxanthin    CPD-5661\n",
       "52560                       zymosterone    CPD-4581\n",
       "\n",
       "[30080 rows x 2 columns]"
      ]
     },
     "execution_count": 52,
     "metadata": {},
     "output_type": "execute_result"
    }
   ],
   "source": [
    "plantTableFiltered"
   ]
  },
  {
   "cell_type": "code",
   "execution_count": 51,
   "metadata": {},
   "outputs": [
    {
     "name": "stderr",
     "output_type": "stream",
     "text": [
      "<ipython-input-51-0dfee0adcb8e>:2: SettingWithCopyWarning: \n",
      "A value is trying to be set on a copy of a slice from a DataFrame.\n",
      "Try using .loc[row_indexer,col_indexer] = value instead\n",
      "\n",
      "See the caveats in the documentation: https://pandas.pydata.org/pandas-docs/stable/user_guide/indexing.html#returning-a-view-versus-a-copy\n",
      "  plantTableFiltered[\"Name\"] = plantTableFiltered[\"Name\"].str.lower()\n"
     ]
    }
   ],
   "source": [
    "# Convert compound names to lower case\n",
    "plantTableFiltered[\"Name\"] = plantTableFiltered[\"Name\"].str.lower()\n"
   ]
  },
  {
   "cell_type": "code",
   "execution_count": 53,
   "metadata": {},
   "outputs": [],
   "source": [
    "# Write output table\n",
    "plantTableFiltered.to_csv(plantTableOutputPath, sep=\"\\t\", index=False)"
   ]
  }
 ],
 "metadata": {
  "kernelspec": {
   "display_name": "Python 3",
   "language": "python",
   "name": "python3"
  },
  "language_info": {
   "codemirror_mode": {
    "name": "ipython",
    "version": 3
   },
   "file_extension": ".py",
   "mimetype": "text/x-python",
   "name": "python",
   "nbconvert_exporter": "python",
   "pygments_lexer": "ipython3",
   "version": "3.8.5"
  }
 },
 "nbformat": 4,
 "nbformat_minor": 4
}
