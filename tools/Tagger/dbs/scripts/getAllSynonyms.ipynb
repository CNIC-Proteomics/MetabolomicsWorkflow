{
 "cells": [
  {
   "cell_type": "markdown",
   "metadata": {},
   "source": [
    "## Get All Synonyms\n",
    "\n",
    "Este Notebook abre las tablas con los compuestos de Food o Drug (lo que sea), y para cada uno de ellos toma los sinónimos (sin repetir ID)"
   ]
  },
  {
   "cell_type": "code",
   "execution_count": 1,
   "metadata": {},
   "outputs": [],
   "source": [
    "# import modules\n",
    "\n",
    "import csv\n",
    "import os\n",
    "import requests\n",
    "from tqdm import tqdm\n",
    "import pickle\n",
    "import pandas as pd\n",
    "import traceback"
   ]
  },
  {
   "cell_type": "code",
   "execution_count": 2,
   "metadata": {},
   "outputs": [],
   "source": [
    "# Open Table Database\n",
    "\n",
    "file_name = os.path.join(\".\", \"TaggerData\", \"HMDB\", \"diterpenoids\", \"hmdb_diterpenoids.tsv\")\n",
    "\n",
    "with open(file_name, 'r') as f:\n",
    "    \n",
    "    row_list = []\n",
    "    \n",
    "    file = csv.reader(f, delimiter='\\t')\n",
    "    next(file)\n",
    "    \n",
    "    for row in file:\n",
    "        row_list.append(row[:2])"
   ]
  },
  {
   "cell_type": "code",
   "execution_count": 4,
   "metadata": {},
   "outputs": [],
   "source": [
    "# Define getSynonymFunction\n",
    "\n",
    "def getSynonyms(name):\n",
    "    '''\n",
    "    Build URL and do the request. Return a list with the synonyms\n",
    "    '''\n",
    "\n",
    "    url_prolog = \"https://pubchem.ncbi.nlm.nih.gov/rest/pug\"\n",
    "    url_input = \"/compound/name/\" + name\n",
    "    operation = \"/synonyms\"\n",
    "    output = \"/TXT\"\n",
    "\n",
    "    url = url_prolog + url_input + operation + output\n",
    "\n",
    "    try:\n",
    "        response = requests.get(url)\n",
    "    \n",
    "    except Exception:\n",
    "        traceback.print_exc()\n",
    "        return [-1]\n",
    "        \n",
    "\n",
    "    if response.ok:\n",
    "        synonyms_list = response.text.split('\\n')\n",
    "        return synonyms_list[:-1]\n",
    "    \n",
    "    else: \n",
    "        return [-1]"
   ]
  },
  {
   "cell_type": "code",
   "execution_count": 5,
   "metadata": {},
   "outputs": [
    {
     "name": "stderr",
     "output_type": "stream",
     "text": [
      "100%|██████████| 921/921 [02:43<00:00,  5.63it/s]\n"
     ]
    }
   ],
   "source": [
    "# Loop over compounds to get synonyms\n",
    "\n",
    "reviewed_ID = []\n",
    "all_syns = [] # [[[syn1, syn2...],db_id], [syn1, syn2...],db_id], [syn1, syn2...],db_id]...]\n",
    "\n",
    "\n",
    "for name, db_id in tqdm(row_list):\n",
    "    \n",
    "    if db_id in reviewed_ID:\n",
    "        continue\n",
    "    \n",
    "    req = getSynonyms(name)\n",
    "    \n",
    "    if req != [-1]:\n",
    "        reviewed_ID.append(db_id)\n",
    "        all_syns.append([req, db_id])\n",
    "        \n",
    "\n",
    "\n",
    "with open(f'{os.path.splitext(file_name)[0]}', 'wb') as f:\n",
    "    pickle.dump(all_syns, f)\n"
   ]
  },
  {
   "cell_type": "code",
   "execution_count": 6,
   "metadata": {},
   "outputs": [],
   "source": [
    "with open(f'{os.path.splitext(file_name)[0]}', 'rb') as f:\n",
    "    all_syns_open = pickle.load(f)"
   ]
  },
  {
   "cell_type": "code",
   "execution_count": 7,
   "metadata": {},
   "outputs": [],
   "source": [
    "rows_pubchem = [[name, db_id] for syns_list, db_id in all_syns_open for name in syns_list]"
   ]
  },
  {
   "cell_type": "code",
   "execution_count": 8,
   "metadata": {},
   "outputs": [],
   "source": [
    "all_rows = rows_pubchem + row_list"
   ]
  },
  {
   "cell_type": "code",
   "execution_count": 9,
   "metadata": {},
   "outputs": [
    {
     "name": "stdout",
     "output_type": "stream",
     "text": [
      "921\n",
      "2885\n",
      "3806\n"
     ]
    }
   ],
   "source": [
    "print(len(row_list))\n",
    "print(len(rows_pubchem))\n",
    "print(len(all_rows))"
   ]
  },
  {
   "cell_type": "code",
   "execution_count": 10,
   "metadata": {},
   "outputs": [],
   "source": [
    "df = pd.DataFrame(all_rows, columns=['Name', 'HMDB_ID'])\n",
    "df.drop_duplicates(inplace=True)\n",
    "df.to_csv(file_name, sep='\\t', index=False)"
   ]
  },
  {
   "cell_type": "code",
   "execution_count": 11,
   "metadata": {},
   "outputs": [
    {
     "data": {
      "text/html": [
       "<div>\n",
       "<style scoped>\n",
       "    .dataframe tbody tr th:only-of-type {\n",
       "        vertical-align: middle;\n",
       "    }\n",
       "\n",
       "    .dataframe tbody tr th {\n",
       "        vertical-align: top;\n",
       "    }\n",
       "\n",
       "    .dataframe thead th {\n",
       "        text-align: right;\n",
       "    }\n",
       "</style>\n",
       "<table border=\"1\" class=\"dataframe\">\n",
       "  <thead>\n",
       "    <tr style=\"text-align: right;\">\n",
       "      <th></th>\n",
       "      <th>Name</th>\n",
       "      <th>HMDB_ID</th>\n",
       "    </tr>\n",
       "  </thead>\n",
       "  <tbody>\n",
       "    <tr>\n",
       "      <th>0</th>\n",
       "      <td>11-[(2R)-3-[2-amino-3-methyl-4-(2-methyl-1,3-t...</td>\n",
       "      <td>HMDB0127547</td>\n",
       "    </tr>\n",
       "    <tr>\n",
       "      <th>1</th>\n",
       "      <td>11-[(2R)-3-[2-amino-3-methyl-4-(2-methyl-1,3-t...</td>\n",
       "      <td>HMDB0127548</td>\n",
       "    </tr>\n",
       "    <tr>\n",
       "      <th>2</th>\n",
       "      <td>11-[(2R,3S)-3-[2-amino-3-methyl-4-(2-methyl-1,...</td>\n",
       "      <td>HMDB0127524</td>\n",
       "    </tr>\n",
       "    <tr>\n",
       "      <th>3</th>\n",
       "      <td>Gibberellin A80</td>\n",
       "      <td>HMDB0036892</td>\n",
       "    </tr>\n",
       "    <tr>\n",
       "      <th>4</th>\n",
       "      <td>11b-Hydroxygibberellin A7</td>\n",
       "      <td>HMDB0036892</td>\n",
       "    </tr>\n",
       "    <tr>\n",
       "      <th>...</th>\n",
       "      <td>...</td>\n",
       "      <td>...</td>\n",
       "    </tr>\n",
       "    <tr>\n",
       "      <th>3801</th>\n",
       "      <td>α-bixin</td>\n",
       "      <td>HMDB0035317</td>\n",
       "    </tr>\n",
       "    <tr>\n",
       "      <th>3802</th>\n",
       "      <td>α-crocin</td>\n",
       "      <td>HMDB0002398</td>\n",
       "    </tr>\n",
       "    <tr>\n",
       "      <th>3803</th>\n",
       "      <td>α-hydroxyphytanate</td>\n",
       "      <td>HMDB0061666</td>\n",
       "    </tr>\n",
       "    <tr>\n",
       "      <th>3804</th>\n",
       "      <td>α-hydroxyphytanic acid</td>\n",
       "      <td>HMDB0061666</td>\n",
       "    </tr>\n",
       "    <tr>\n",
       "      <th>3805</th>\n",
       "      <td>α-Phyllohydroquinone</td>\n",
       "      <td>HMDB0060502</td>\n",
       "    </tr>\n",
       "  </tbody>\n",
       "</table>\n",
       "<p>3190 rows × 2 columns</p>\n",
       "</div>"
      ],
      "text/plain": [
       "                                                   Name      HMDB_ID\n",
       "0     11-[(2R)-3-[2-amino-3-methyl-4-(2-methyl-1,3-t...  HMDB0127547\n",
       "1     11-[(2R)-3-[2-amino-3-methyl-4-(2-methyl-1,3-t...  HMDB0127548\n",
       "2     11-[(2R,3S)-3-[2-amino-3-methyl-4-(2-methyl-1,...  HMDB0127524\n",
       "3                                       Gibberellin A80  HMDB0036892\n",
       "4                             11b-Hydroxygibberellin A7  HMDB0036892\n",
       "...                                                 ...          ...\n",
       "3801                                            α-bixin  HMDB0035317\n",
       "3802                                           α-crocin  HMDB0002398\n",
       "3803                                 α-hydroxyphytanate  HMDB0061666\n",
       "3804                             α-hydroxyphytanic acid  HMDB0061666\n",
       "3805                               α-Phyllohydroquinone  HMDB0060502\n",
       "\n",
       "[3190 rows x 2 columns]"
      ]
     },
     "execution_count": 11,
     "metadata": {},
     "output_type": "execute_result"
    }
   ],
   "source": [
    "df"
   ]
  }
 ],
 "metadata": {
  "kernelspec": {
   "display_name": "Python 3",
   "language": "python",
   "name": "python3"
  },
  "language_info": {
   "codemirror_mode": {
    "name": "ipython",
    "version": 3
   },
   "file_extension": ".py",
   "mimetype": "text/x-python",
   "name": "python",
   "nbconvert_exporter": "python",
   "pygments_lexer": "ipython3",
   "version": "3.7.6"
  }
 },
 "nbformat": 4,
 "nbformat_minor": 4
}
