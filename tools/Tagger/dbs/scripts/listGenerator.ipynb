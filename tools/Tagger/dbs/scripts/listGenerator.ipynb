{
 "cells": [
  {
   "cell_type": "markdown",
   "metadata": {},
   "source": [
    "# DATABASE GENERATOR"
   ]
  },
  {
   "cell_type": "markdown",
   "metadata": {},
   "source": [
    "In this notebook we will generate the final Food/Drug database applying a merge operation over \"partial\" databases obtained from different repositories (HMDB, FooDB, DrugBank and KeggDrug)"
   ]
  },
  {
   "cell_type": "code",
   "execution_count": 1,
   "metadata": {},
   "outputs": [],
   "source": [
    "# import modules\n",
    "\n",
    "import sys\n",
    "import os\n",
    "import numpy as np\n",
    "import pandas as pd"
   ]
  },
  {
   "cell_type": "code",
   "execution_count": 2,
   "metadata": {},
   "outputs": [],
   "source": [
    "# Lists with file paths to databases we want to merge\n",
    "\n",
    "food_DB_paths = [\"./HMDB/hmdb_food.tsv\"]#, \"./FooDB/fooDB_food.tsv\"]\n",
    "\n",
    "drug_DB_paths = [\"./HMDB/hmdb_drug.tsv\"]#, \"./DrugBank/drugbank_drug.tsv\", \"./KEGG_Drug/keggDrug_drug.tsv\"]"
   ]
  },
  {
   "cell_type": "code",
   "execution_count": 3,
   "metadata": {},
   "outputs": [],
   "source": [
    "# df.loc[df.loc[:, df.columns[1]] == df.loc[df.loc[:, \"Name\"] != \"Val\", df.columns[1]].to_numpy()[0], :][:4]"
   ]
  },
  {
   "cell_type": "code",
   "execution_count": 4,
   "metadata": {},
   "outputs": [],
   "source": [
    "def removeAminoAcid(df):\n",
    "    \"\"\"\n",
    "    \n",
    "    \"\"\"\n",
    "    \n",
    "    aa_list = [\"Ala\", \"Arg\", \"Asn\", \"Asp\", \"Cys\", \"Gln\", \"Glu\", \"Gly\", \"His\", \"Ile\",\n",
    "               \"Leu\", \"Lys\", \"Met\", \"Phe\", \"Pro\", \"Ser\", \"Thr\", \"Trp\", \"Tyr\", \"Val\",\n",
    "               \"Alanine\", \"Arginine\", \"Asparagine\", \"Aspartate\", \"Cysteine\", \"Glutamine\",\n",
    "               \"Glutamate\", \"Glycine\", \"Histidine\", \"Isoleucine\", \"Leucine\", \"Lysine\",\n",
    "               \"Methionine\", \"Phenylalanine\", \"Proline\", \"Serine\", \"Threonine\", \"Tryptophan\",\n",
    "               \"Tyrosine\", \"Valine\"]\n",
    "    \n",
    "    for aa in aa_list:\n",
    "        \n",
    "        id_array = df.loc[df.loc[:, df.columns[0]] == aa, df.columns[1]].to_numpy()\n",
    "        \n",
    "        for aa_id in id_array:\n",
    "            \n",
    "            df = df.loc[df.loc[:, df.columns[1]] != aa_id, :]\n",
    "    \n",
    "    return df\n",
    "        \n",
    "\n",
    "def mergeDB(paths_list):\n",
    "    \"\"\"\n",
    "    \n",
    "    \"\"\"\n",
    "    \n",
    "    df = pd.read_csv(paths_list[0], header=0, sep=\"\\t\", na_filter=False)\n",
    "    \n",
    "    df = removeAminoAcid(df)\n",
    "    \n",
    "    for path in paths_list[1:]:\n",
    "        \n",
    "        df_i = pd.read_csv(path, header=0, sep=\"\\t\", na_filter=False)\n",
    "        \n",
    "        df_i = removeAminoAcid(df_i)\n",
    "        \n",
    "        df = pd.merge(df, df_i, how='outer', on='Name')\n",
    "    \n",
    "    return df"
   ]
  },
  {
   "cell_type": "code",
   "execution_count": 5,
   "metadata": {},
   "outputs": [],
   "source": [
    "food_DB = mergeDB(food_DB_paths)"
   ]
  },
  {
   "cell_type": "code",
   "execution_count": 6,
   "metadata": {
    "scrolled": false
   },
   "outputs": [
    {
     "data": {
      "text/html": [
       "<div>\n",
       "<style scoped>\n",
       "    .dataframe tbody tr th:only-of-type {\n",
       "        vertical-align: middle;\n",
       "    }\n",
       "\n",
       "    .dataframe tbody tr th {\n",
       "        vertical-align: top;\n",
       "    }\n",
       "\n",
       "    .dataframe thead th {\n",
       "        text-align: right;\n",
       "    }\n",
       "</style>\n",
       "<table border=\"1\" class=\"dataframe\">\n",
       "  <thead>\n",
       "    <tr style=\"text-align: right;\">\n",
       "      <th></th>\n",
       "      <th>Name</th>\n",
       "      <th>HMDB_ID</th>\n",
       "    </tr>\n",
       "  </thead>\n",
       "  <tbody>\n",
       "    <tr>\n",
       "      <th>0</th>\n",
       "      <td>0211, SPI</td>\n",
       "      <td>HMDB0015180</td>\n",
       "    </tr>\n",
       "    <tr>\n",
       "      <th>1</th>\n",
       "      <td>10,10-dibromo-9(10H)-Anthracenone</td>\n",
       "      <td>HMDB0041543</td>\n",
       "    </tr>\n",
       "    <tr>\n",
       "      <th>2</th>\n",
       "      <td>10,11-dihydro-8-(1-Methylethyl)-11-(2-methylpr...</td>\n",
       "      <td>HMDB0035218</td>\n",
       "    </tr>\n",
       "    <tr>\n",
       "      <th>3</th>\n",
       "      <td>10,11-Epidioxycalamene</td>\n",
       "      <td>HMDB0041062</td>\n",
       "    </tr>\n",
       "    <tr>\n",
       "      <th>4</th>\n",
       "      <td>10,12-Dotriacontanedione</td>\n",
       "      <td>HMDB0035530</td>\n",
       "    </tr>\n",
       "    <tr>\n",
       "      <th>...</th>\n",
       "      <td>...</td>\n",
       "      <td>...</td>\n",
       "    </tr>\n",
       "    <tr>\n",
       "      <th>29832</th>\n",
       "      <td>δ-hydroxyproline</td>\n",
       "      <td>HMDB0036576</td>\n",
       "    </tr>\n",
       "    <tr>\n",
       "      <th>29833</th>\n",
       "      <td>δ-hydroxyvalerate</td>\n",
       "      <td>HMDB0061927</td>\n",
       "    </tr>\n",
       "    <tr>\n",
       "      <th>29834</th>\n",
       "      <td>δ-hydroxyvaleric acid</td>\n",
       "      <td>HMDB0061927</td>\n",
       "    </tr>\n",
       "    <tr>\n",
       "      <th>29835</th>\n",
       "      <td>δ-phenylvalerate</td>\n",
       "      <td>HMDB0002043</td>\n",
       "    </tr>\n",
       "    <tr>\n",
       "      <th>29836</th>\n",
       "      <td>δ-phenylvaleric acid</td>\n",
       "      <td>HMDB0002043</td>\n",
       "    </tr>\n",
       "  </tbody>\n",
       "</table>\n",
       "<p>29365 rows × 2 columns</p>\n",
       "</div>"
      ],
      "text/plain": [
       "                                                    Name      HMDB_ID\n",
       "0                                              0211, SPI  HMDB0015180\n",
       "1                      10,10-dibromo-9(10H)-Anthracenone  HMDB0041543\n",
       "2      10,11-dihydro-8-(1-Methylethyl)-11-(2-methylpr...  HMDB0035218\n",
       "3                                 10,11-Epidioxycalamene  HMDB0041062\n",
       "4                               10,12-Dotriacontanedione  HMDB0035530\n",
       "...                                                  ...          ...\n",
       "29832                                   δ-hydroxyproline  HMDB0036576\n",
       "29833                                  δ-hydroxyvalerate  HMDB0061927\n",
       "29834                              δ-hydroxyvaleric acid  HMDB0061927\n",
       "29835                                   δ-phenylvalerate  HMDB0002043\n",
       "29836                               δ-phenylvaleric acid  HMDB0002043\n",
       "\n",
       "[29365 rows x 2 columns]"
      ]
     },
     "execution_count": 6,
     "metadata": {},
     "output_type": "execute_result"
    }
   ],
   "source": [
    "food_DB"
   ]
  },
  {
   "cell_type": "code",
   "execution_count": 7,
   "metadata": {},
   "outputs": [],
   "source": [
    "food_DB.to_csv(\"food_database.tsv\", index=False, sep=\"\\t\")"
   ]
  },
  {
   "cell_type": "code",
   "execution_count": 8,
   "metadata": {},
   "outputs": [],
   "source": [
    "drug_DB = mergeDB(drug_DB_paths)"
   ]
  },
  {
   "cell_type": "code",
   "execution_count": 9,
   "metadata": {},
   "outputs": [
    {
     "data": {
      "text/html": [
       "<div>\n",
       "<style scoped>\n",
       "    .dataframe tbody tr th:only-of-type {\n",
       "        vertical-align: middle;\n",
       "    }\n",
       "\n",
       "    .dataframe tbody tr th {\n",
       "        vertical-align: top;\n",
       "    }\n",
       "\n",
       "    .dataframe thead th {\n",
       "        text-align: right;\n",
       "    }\n",
       "</style>\n",
       "<table border=\"1\" class=\"dataframe\">\n",
       "  <thead>\n",
       "    <tr style=\"text-align: right;\">\n",
       "      <th></th>\n",
       "      <th>Name</th>\n",
       "      <th>HMDB_ID</th>\n",
       "    </tr>\n",
       "  </thead>\n",
       "  <tbody>\n",
       "    <tr>\n",
       "      <th>0</th>\n",
       "      <td>001, RAD</td>\n",
       "      <td>HMDB0015529</td>\n",
       "    </tr>\n",
       "    <tr>\n",
       "      <th>1</th>\n",
       "      <td>0211, SPI</td>\n",
       "      <td>HMDB0015180</td>\n",
       "    </tr>\n",
       "    <tr>\n",
       "      <th>2</th>\n",
       "      <td>027, FK</td>\n",
       "      <td>HMDB0014809</td>\n",
       "    </tr>\n",
       "    <tr>\n",
       "      <th>3</th>\n",
       "      <td>03-(2-Morpholinoethyl)-morphine</td>\n",
       "      <td>HMDB0041984</td>\n",
       "    </tr>\n",
       "    <tr>\n",
       "      <th>4</th>\n",
       "      <td>073, AMG</td>\n",
       "      <td>HMDB0015147</td>\n",
       "    </tr>\n",
       "    <tr>\n",
       "      <th>...</th>\n",
       "      <td>...</td>\n",
       "      <td>...</td>\n",
       "    </tr>\n",
       "    <tr>\n",
       "      <th>33643</th>\n",
       "      <td>δ-hydroxyvalerate</td>\n",
       "      <td>HMDB0061927</td>\n",
       "    </tr>\n",
       "    <tr>\n",
       "      <th>33644</th>\n",
       "      <td>δ-hydroxyvaleric acid</td>\n",
       "      <td>HMDB0061927</td>\n",
       "    </tr>\n",
       "    <tr>\n",
       "      <th>33645</th>\n",
       "      <td>δ-methorphan</td>\n",
       "      <td>HMDB0001920</td>\n",
       "    </tr>\n",
       "    <tr>\n",
       "      <th>33646</th>\n",
       "      <td>δ-phenylvalerate</td>\n",
       "      <td>HMDB0002043</td>\n",
       "    </tr>\n",
       "    <tr>\n",
       "      <th>33647</th>\n",
       "      <td>δ-phenylvaleric acid</td>\n",
       "      <td>HMDB0002043</td>\n",
       "    </tr>\n",
       "  </tbody>\n",
       "</table>\n",
       "<p>33261 rows × 2 columns</p>\n",
       "</div>"
      ],
      "text/plain": [
       "                                  Name      HMDB_ID\n",
       "0                             001, RAD  HMDB0015529\n",
       "1                            0211, SPI  HMDB0015180\n",
       "2                              027, FK  HMDB0014809\n",
       "3      03-(2-Morpholinoethyl)-morphine  HMDB0041984\n",
       "4                             073, AMG  HMDB0015147\n",
       "...                                ...          ...\n",
       "33643                δ-hydroxyvalerate  HMDB0061927\n",
       "33644            δ-hydroxyvaleric acid  HMDB0061927\n",
       "33645                     δ-methorphan  HMDB0001920\n",
       "33646                 δ-phenylvalerate  HMDB0002043\n",
       "33647             δ-phenylvaleric acid  HMDB0002043\n",
       "\n",
       "[33261 rows x 2 columns]"
      ]
     },
     "execution_count": 9,
     "metadata": {},
     "output_type": "execute_result"
    }
   ],
   "source": [
    "drug_DB"
   ]
  },
  {
   "cell_type": "code",
   "execution_count": 10,
   "metadata": {},
   "outputs": [],
   "source": [
    "drug_DB.to_csv(\"drug_database.tsv\", index=False, sep=\"\\t\")"
   ]
  }
 ],
 "metadata": {
  "kernelspec": {
   "display_name": "Python 3",
   "language": "python",
   "name": "python3"
  },
  "language_info": {
   "codemirror_mode": {
    "name": "ipython",
    "version": 3
   },
   "file_extension": ".py",
   "mimetype": "text/x-python",
   "name": "python",
   "nbconvert_exporter": "python",
   "pygments_lexer": "ipython3",
   "version": "3.7.6"
  }
 },
 "nbformat": 4,
 "nbformat_minor": 4
}
